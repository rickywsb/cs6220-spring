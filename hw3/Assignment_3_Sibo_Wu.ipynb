{
  "cells": [
    {
      "cell_type": "markdown",
      "metadata": {
        "id": "kPt5q27L5557"
      },
      "source": [
        "# Homework 2\n",
        "\n",
        "Submit your *.ipynb through Gradescope by downloading: `File` ⇒ `Download` ⇒ `Download .ipynb`, and then submit with your PDF via link to your repository."
      ]
    },
    {
      "cell_type": "markdown",
      "metadata": {
        "id": "p0-YhEpP_Ds-"
      },
      "source": [
        "### Setup"
      ]
    },
    {
      "cell_type": "code",
      "execution_count": 1,
      "metadata": {
        "colab": {
          "base_uri": "https://localhost:8080/"
        },
        "id": "k-qHai2252mI",
        "outputId": "06fd85d2-f1b2-45cd-dad7-38079cf8a985"
      },
      "outputs": [
        {
          "output_type": "stream",
          "name": "stdout",
          "text": [
            "Collecting pyspark\n",
            "  Downloading pyspark-3.5.0.tar.gz (316.9 MB)\n",
            "\u001b[2K     \u001b[90m━━━━━━━━━━━━━━━━━━━━━━━━━━━━━━━━━━━━━━━━\u001b[0m \u001b[32m316.9/316.9 MB\u001b[0m \u001b[31m3.2 MB/s\u001b[0m eta \u001b[36m0:00:00\u001b[0m\n",
            "\u001b[?25h  Preparing metadata (setup.py) ... \u001b[?25l\u001b[?25hdone\n",
            "Requirement already satisfied: py4j==0.10.9.7 in /usr/local/lib/python3.10/dist-packages (from pyspark) (0.10.9.7)\n",
            "Building wheels for collected packages: pyspark\n",
            "  Building wheel for pyspark (setup.py) ... \u001b[?25l\u001b[?25hdone\n",
            "  Created wheel for pyspark: filename=pyspark-3.5.0-py2.py3-none-any.whl size=317425345 sha256=7deaa57dc09cb45099361382ec362f0ce9340b6960820a23688f4bd17c217eb2\n",
            "  Stored in directory: /root/.cache/pip/wheels/41/4e/10/c2cf2467f71c678cfc8a6b9ac9241e5e44a01940da8fbb17fc\n",
            "Successfully built pyspark\n",
            "Installing collected packages: pyspark\n",
            "Successfully installed pyspark-3.5.0\n",
            "The following additional packages will be installed:\n",
            "  libxtst6 openjdk-8-jre-headless\n",
            "Suggested packages:\n",
            "  openjdk-8-demo openjdk-8-source libnss-mdns fonts-dejavu-extra fonts-nanum fonts-ipafont-gothic\n",
            "  fonts-ipafont-mincho fonts-wqy-microhei fonts-wqy-zenhei fonts-indic\n",
            "The following NEW packages will be installed:\n",
            "  libxtst6 openjdk-8-jdk-headless openjdk-8-jre-headless\n",
            "0 upgraded, 3 newly installed, 0 to remove and 32 not upgraded.\n",
            "Need to get 39.7 MB of archives.\n",
            "After this operation, 144 MB of additional disk space will be used.\n",
            "Selecting previously unselected package libxtst6:amd64.\n",
            "(Reading database ... 121747 files and directories currently installed.)\n",
            "Preparing to unpack .../libxtst6_2%3a1.2.3-1build4_amd64.deb ...\n",
            "Unpacking libxtst6:amd64 (2:1.2.3-1build4) ...\n",
            "Selecting previously unselected package openjdk-8-jre-headless:amd64.\n",
            "Preparing to unpack .../openjdk-8-jre-headless_8u392-ga-1~22.04_amd64.deb ...\n",
            "Unpacking openjdk-8-jre-headless:amd64 (8u392-ga-1~22.04) ...\n",
            "Selecting previously unselected package openjdk-8-jdk-headless:amd64.\n",
            "Preparing to unpack .../openjdk-8-jdk-headless_8u392-ga-1~22.04_amd64.deb ...\n",
            "Unpacking openjdk-8-jdk-headless:amd64 (8u392-ga-1~22.04) ...\n",
            "Setting up libxtst6:amd64 (2:1.2.3-1build4) ...\n",
            "Setting up openjdk-8-jre-headless:amd64 (8u392-ga-1~22.04) ...\n",
            "update-alternatives: using /usr/lib/jvm/java-8-openjdk-amd64/jre/bin/orbd to provide /usr/bin/orbd (orbd) in auto mode\n",
            "update-alternatives: using /usr/lib/jvm/java-8-openjdk-amd64/jre/bin/servertool to provide /usr/bin/servertool (servertool) in auto mode\n",
            "update-alternatives: using /usr/lib/jvm/java-8-openjdk-amd64/jre/bin/tnameserv to provide /usr/bin/tnameserv (tnameserv) in auto mode\n",
            "Setting up openjdk-8-jdk-headless:amd64 (8u392-ga-1~22.04) ...\n",
            "update-alternatives: using /usr/lib/jvm/java-8-openjdk-amd64/bin/clhsdb to provide /usr/bin/clhsdb (clhsdb) in auto mode\n",
            "update-alternatives: using /usr/lib/jvm/java-8-openjdk-amd64/bin/extcheck to provide /usr/bin/extcheck (extcheck) in auto mode\n",
            "update-alternatives: using /usr/lib/jvm/java-8-openjdk-amd64/bin/hsdb to provide /usr/bin/hsdb (hsdb) in auto mode\n",
            "update-alternatives: using /usr/lib/jvm/java-8-openjdk-amd64/bin/idlj to provide /usr/bin/idlj (idlj) in auto mode\n",
            "update-alternatives: using /usr/lib/jvm/java-8-openjdk-amd64/bin/javah to provide /usr/bin/javah (javah) in auto mode\n",
            "update-alternatives: using /usr/lib/jvm/java-8-openjdk-amd64/bin/jhat to provide /usr/bin/jhat (jhat) in auto mode\n",
            "update-alternatives: using /usr/lib/jvm/java-8-openjdk-amd64/bin/jsadebugd to provide /usr/bin/jsadebugd (jsadebugd) in auto mode\n",
            "update-alternatives: using /usr/lib/jvm/java-8-openjdk-amd64/bin/native2ascii to provide /usr/bin/native2ascii (native2ascii) in auto mode\n",
            "update-alternatives: using /usr/lib/jvm/java-8-openjdk-amd64/bin/schemagen to provide /usr/bin/schemagen (schemagen) in auto mode\n",
            "update-alternatives: using /usr/lib/jvm/java-8-openjdk-amd64/bin/wsgen to provide /usr/bin/wsgen (wsgen) in auto mode\n",
            "update-alternatives: using /usr/lib/jvm/java-8-openjdk-amd64/bin/wsimport to provide /usr/bin/wsimport (wsimport) in auto mode\n",
            "update-alternatives: using /usr/lib/jvm/java-8-openjdk-amd64/bin/xjc to provide /usr/bin/xjc (xjc) in auto mode\n",
            "Processing triggers for libc-bin (2.35-0ubuntu3.4) ...\n",
            "/sbin/ldconfig.real: /usr/local/lib/libtbbbind_2_5.so.3 is not a symbolic link\n",
            "\n",
            "/sbin/ldconfig.real: /usr/local/lib/libtbbbind_2_0.so.3 is not a symbolic link\n",
            "\n",
            "/sbin/ldconfig.real: /usr/local/lib/libtbbbind.so.3 is not a symbolic link\n",
            "\n",
            "/sbin/ldconfig.real: /usr/local/lib/libtbbmalloc.so.2 is not a symbolic link\n",
            "\n",
            "/sbin/ldconfig.real: /usr/local/lib/libtbb.so.12 is not a symbolic link\n",
            "\n",
            "/sbin/ldconfig.real: /usr/local/lib/libtbbmalloc_proxy.so.2 is not a symbolic link\n",
            "\n"
          ]
        }
      ],
      "source": [
        "!pip install pyspark\n",
        "!pip install -U -q PyDrive\n",
        "!apt install openjdk-8-jdk-headless -qq\n",
        "import os\n",
        "os.environ[\"JAVA_HOME\"] = \"/usr/lib/jvm/java-8-openjdk-amd64\""
      ]
    },
    {
      "cell_type": "code",
      "source": [
        "#@title Import PySpark and create SparkContext\n",
        "\n",
        "import itertools\n",
        "import pyspark\n",
        "from pyspark.sql import *\n",
        "from pyspark.sql.functions import *\n",
        "from pyspark import SparkContext, SparkConf\n",
        "import os\n",
        "os.environ[\"JAVA_HOME\"] = \"/usr/lib/jvm/java-8-openjdk-amd64\"\n",
        "\n",
        "# create the session\n",
        "conf = SparkConf().set(\"spark.ui.port\", \"4050\")\n",
        "\n",
        "# create the context\n",
        "sc = pyspark.SparkContext(conf=conf)\n",
        "spark = SparkSession.builder.getOrCreate()"
      ],
      "metadata": {
        "id": "KBAOtmroKCqG"
      },
      "execution_count": 2,
      "outputs": []
    },
    {
      "cell_type": "code",
      "source": [
        "#@title Download the data from the course website\n",
        "!wget https://course.ccs.neu.edu/cs6220/fall2023/homework-3/soc-LiveJournal1Adj.txt"
      ],
      "metadata": {
        "colab": {
          "base_uri": "https://localhost:8080/"
        },
        "id": "18LWrPEMKCIW",
        "outputId": "a7f966f0-43a9-4382-84c9-36857603ab57"
      },
      "execution_count": 3,
      "outputs": [
        {
          "output_type": "stream",
          "name": "stdout",
          "text": [
            "--2024-02-07 23:21:52--  https://course.ccs.neu.edu/cs6220/fall2023/homework-3/soc-LiveJournal1Adj.txt\n",
            "Resolving course.ccs.neu.edu (course.ccs.neu.edu)... 129.10.117.35\n",
            "Connecting to course.ccs.neu.edu (course.ccs.neu.edu)|129.10.117.35|:443... connected.\n",
            "HTTP request sent, awaiting response... 200 OK\n",
            "Length: 4156181 (4.0M) [text/plain]\n",
            "Saving to: ‘soc-LiveJournal1Adj.txt’\n",
            "\n",
            "soc-LiveJournal1Adj 100%[===================>]   3.96M  21.6MB/s    in 0.2s    \n",
            "\n",
            "2024-02-07 23:21:53 (21.6 MB/s) - ‘soc-LiveJournal1Adj.txt’ saved [4156181/4156181]\n",
            "\n"
          ]
        }
      ]
    },
    {
      "cell_type": "markdown",
      "source": [
        "### Load the data in!"
      ],
      "metadata": {
        "id": "3TA8JoRuJEmS"
      }
    },
    {
      "cell_type": "code",
      "source": [
        "# Read the data in\n",
        "lines = sc.textFile(\"soc-LiveJournal1Adj.txt\", 1)\n",
        "lines = lines.map(lambda line: line.split())"
      ],
      "metadata": {
        "id": "cdLH8ltnJEHA"
      },
      "execution_count": 4,
      "outputs": []
    },
    {
      "cell_type": "code",
      "source": [
        "lines.take(2)"
      ],
      "metadata": {
        "colab": {
          "base_uri": "https://localhost:8080/"
        },
        "id": "huCITf4Dovf5",
        "outputId": "658c02a9-dbcc-419b-bb3b-d8a5c2219df4"
      },
      "execution_count": 9,
      "outputs": [
        {
          "output_type": "execute_result",
          "data": {
            "text/plain": [
              "[['0',\n",
              "  '1,2,3,4,5,6,7,8,9,10,11,12,13,14,15,16,17,18,19,20,21,22,23,24,25,26,27,28,29,30,31,32,33,34,35,36,37,38,39,40,41,42,43,44,45,46,47,48,49,50,51,52,53,54,55,56,57,58,59,60,61,62,63,64,65,66,67,68,69,70,71,72,73,74,75,76,77,78,79,80,81,82,83,84,85,86,87,88,89,90,91,92,93,94'],\n",
              " ['1',\n",
              "  '0,5,20,135,2409,8715,8932,10623,12347,12846,13840,13845,14005,20075,21556,22939,23520,28193,29724,29791,29826,30691,31232,31435,32317,32489,34394,35589,35605,35606,35613,35633,35648,35678,38737,43447,44846,44887,49226,49985,623,629,4999,6156,13912,14248,15190,17636,19217,20074,27536,29481,29726,29767,30257,33060,34250,34280,34392,34406,34418,34420,34439,34450,34651,45054,49592']]"
            ]
          },
          "metadata": {},
          "execution_count": 9
        }
      ]
    },
    {
      "cell_type": "markdown",
      "source": [
        "Reasoning Process\n",
        "\n",
        "1. parse the social network data to create an RDD of users and\n",
        "\n",
        "their direct friends.\n",
        "\n",
        "2. for each user, identifie potential friends by excluding direct connections and calculating the number of mutual friends.\n",
        "\n",
        "3. rank these potential connections based on the count of mutual friends, and for each user, we output the top N recommendations"
      ],
      "metadata": {
        "id": "u_if91iuppad"
      }
    },
    {
      "cell_type": "code",
      "source": [
        "# Parse Friends\n",
        "def safe_parse(line):\n",
        "    try:\n",
        "        if len(line) == 2 and line[1].strip():\n",
        "            user_id = int(line[0])\n",
        "            friends_list = [int(friend) for friend in line[1].split(',') if friend.strip()]\n",
        "            return (user_id, friends_list)\n",
        "        else:\n",
        "            return (int(line[0]), [])\n",
        "    except ValueError:\n",
        "        print(f\"Error parsing line: {line}\")\n",
        "        return None\n",
        "\n",
        "\n",
        "# Apply the parsing function\n",
        "user_friends = lines.map(safe_parse)\n",
        "\n"
      ],
      "metadata": {
        "id": "L3OER2CnqfRg"
      },
      "execution_count": 5,
      "outputs": []
    },
    {
      "cell_type": "code",
      "source": [
        "def generate_recommendations(user_id, user_friends, N=10):\n",
        "    \"\"\"\n",
        "    Generate recommendations for a given user based on the number of mutual friends.\n",
        "\n",
        "    Parameters:\n",
        "    - user_id (int): The ID of the user for whom to generate recommendations.\n",
        "    - user_friends (RDD): An RDD of (user_id, [friends_list]) tuples.\n",
        "    - N (int): The number of recommendations to generate.\n",
        "\n",
        "    Returns:\n",
        "    - A list of user IDs representing the algorithm’s recommendation of people that the user might know,\n",
        "      ordered by decreasing number of mutual friends.\n",
        "    \"\"\"\n",
        "\n",
        "    # Extract the list of direct friends for the given user\n",
        "    direct_friends = user_friends.filter(lambda x: x[0] == user_id).flatMap(lambda x: x[1]).collect()\n",
        "\n",
        "    # Generate potential recommendations\n",
        "    potential_recs = user_friends \\\n",
        "        .filter(lambda x: x[0] != user_id) \\\n",
        "        .flatMap(lambda x: [(friend, {x[0]}) for friend in x[1] if friend not in direct_friends]) \\\n",
        "        .reduceByKey(lambda a, b: a | b) \\\n",
        "        .map(lambda x: (x[0], len(set(direct_friends) & x[1]))) \\\n",
        "        .filter(lambda x: x[1] > 0 and x[0] != user_id)  # Exclude the user's own ID from recommendations\n",
        "\n",
        "    # Sort by number of mutual friends (descending) and then by user ID (ascending)\n",
        "    top_recs = potential_recs.sortBy(lambda x: (-x[1], x[0])).map(lambda x: x[0]).take(N)\n",
        "\n",
        "    return top_recs\n"
      ],
      "metadata": {
        "id": "eDHICnJErEM4"
      },
      "execution_count": 6,
      "outputs": []
    },
    {
      "cell_type": "code",
      "source": [
        "# Sanity Check for UserID 11\n",
        "user_id = 11\n",
        "N = 10\n",
        "recommendations = generate_recommendations(user_id, user_friends, N)\n",
        "\n",
        "# Print the recommendations\n",
        "print(f\"Top {N} recommendations for User ID {user_id}:\")\n",
        "for rec in recommendations:\n",
        "    print(f\"User ID: {rec}\")"
      ],
      "metadata": {
        "colab": {
          "base_uri": "https://localhost:8080/"
        },
        "id": "Nl37o6WLrGlb",
        "outputId": "1f58c15c-c555-4476-9544-8396cff2099c"
      },
      "execution_count": 7,
      "outputs": [
        {
          "output_type": "stream",
          "name": "stdout",
          "text": [
            "Top 10 recommendations for User ID 11:\n",
            "User ID: 27552\n",
            "User ID: 7785\n",
            "User ID: 27573\n",
            "User ID: 27574\n",
            "User ID: 27589\n",
            "User ID: 27590\n",
            "User ID: 27600\n",
            "User ID: 27617\n",
            "User ID: 27620\n",
            "User ID: 27667\n"
          ]
        }
      ]
    },
    {
      "cell_type": "markdown",
      "source": [
        "Output for users_id [924, 8941, 8942, 9019, 9020, 9021, 9022, 9990, 9992, 9993]"
      ],
      "metadata": {
        "id": "y6s8Tbrijiqn"
      }
    },
    {
      "cell_type": "code",
      "source": [
        "# List of user IDs for which to generate recommendations\n",
        "user_ids = [924, 8941, 8942, 9019, 9020, 9021, 9022, 9990, 9992, 9993]\n",
        "N = 10\n",
        "\n",
        "# Open the file 'output.txt' in write mode\n",
        "with open('output.txt', 'w') as file:\n",
        "    for user_id in user_ids:\n",
        "        # Generate recommendations for the current user ID\n",
        "        recommendations = generate_recommendations(user_id, user_friends, N)\n",
        "\n",
        "        # Convert the list of recommendations to a comma-separated string\n",
        "        recommendations_str = ','.join(map(str, recommendations))\n",
        "\n",
        "        # Construct the output string in the required format\n",
        "        output_line = f\"{user_id}\\t{recommendations_str}\\n\"\n",
        "\n",
        "        # Write the output string to the file\n",
        "        file.write(output_line)\n",
        "\n",
        "# Print a message indicating completion\n",
        "print(\"Recommendations for specified user IDs have been written to output.txt\")\n"
      ],
      "metadata": {
        "colab": {
          "base_uri": "https://localhost:8080/"
        },
        "id": "DaAd8nStgOXD",
        "outputId": "44b19ff6-253a-42bf-df24-df0aa8e04eb9"
      },
      "execution_count": 8,
      "outputs": [
        {
          "output_type": "stream",
          "name": "stdout",
          "text": [
            "Recommendations for specified user IDs have been written to output.txt\n"
          ]
        }
      ]
    },
    {
      "cell_type": "code",
      "source": [],
      "metadata": {
        "id": "Au157YlckrQD"
      },
      "execution_count": null,
      "outputs": []
    }
  ],
  "metadata": {
    "colab": {
      "provenance": []
    },
    "kernelspec": {
      "display_name": "Python 3",
      "name": "python3"
    }
  },
  "nbformat": 4,
  "nbformat_minor": 0
}