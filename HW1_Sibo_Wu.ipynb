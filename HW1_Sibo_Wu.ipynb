{
  "nbformat": 4,
  "nbformat_minor": 0,
  "metadata": {
    "colab": {
      "provenance": [],
      "toc_visible": true
    },
    "kernelspec": {
      "name": "python3",
      "display_name": "Python 3"
    },
    "language_info": {
      "name": "python"
    }
  },
  "cells": [
    {
      "cell_type": "markdown",
      "source": [
        "Question 1 What is the cardinality in “basket data.csv”?"
      ],
      "metadata": {
        "id": "uExT7clmMc0K"
      }
    },
    {
      "cell_type": "code",
      "source": [
        "!wget -nc https://course.ccs.neu.edu/cs6220/spring2024/homeworks/01/basket_data.csv"
      ],
      "metadata": {
        "colab": {
          "base_uri": "https://localhost:8080/"
        },
        "id": "x6MbF0UIPHlG",
        "outputId": "6636a64d-fe9b-40a0-ab8d-c181b375f691"
      },
      "execution_count": null,
      "outputs": [
        {
          "output_type": "stream",
          "name": "stdout",
          "text": [
            "--2024-01-16 21:46:38--  https://course.ccs.neu.edu/cs6220/spring2024/homeworks/01/basket_data.csv\n",
            "Resolving course.ccs.neu.edu (course.ccs.neu.edu)... 129.10.117.35\n",
            "Connecting to course.ccs.neu.edu (course.ccs.neu.edu)|129.10.117.35|:443... connected.\n",
            "HTTP request sent, awaiting response... 200 OK\n",
            "Length: 2357 (2.3K) [text/csv]\n",
            "Saving to: ‘basket_data.csv’\n",
            "\n",
            "basket_data.csv     100%[===================>]   2.30K  --.-KB/s    in 0s      \n",
            "\n",
            "2024-01-16 21:46:38 (76.9 MB/s) - ‘basket_data.csv’ saved [2357/2357]\n",
            "\n"
          ]
        }
      ]
    },
    {
      "cell_type": "code",
      "execution_count": null,
      "metadata": {
        "id": "Ri4NxEToK6VS"
      },
      "outputs": [],
      "source": [
        "def cardinality_items(filename):\n",
        "    \"\"\"\n",
        "    Takes a filename \"*.csv\" and returns an integer representing the cardinality of the set of all grocery items.\n",
        "    \"\"\"\n",
        "    cardinality = set()\n",
        "    with open(filename, 'r') as file:\n",
        "        for line in file:\n",
        "            items = line.strip().split(',')\n",
        "            cardinality.update([item.strip() for item in items])\n",
        "    return len(cardinality)\n"
      ]
    },
    {
      "cell_type": "code",
      "source": [
        "file_path = 'basket_data.csv'\n",
        "cardinality_num = cardinality_items(file_path)\n",
        "print(cardinality_num)"
      ],
      "metadata": {
        "colab": {
          "base_uri": "https://localhost:8080/"
        },
        "id": "czl8ykFxMyM0",
        "outputId": "2cc39ab1-5b2a-426a-ba4b-888888075adb"
      },
      "execution_count": null,
      "outputs": [
        {
          "output_type": "stream",
          "name": "stdout",
          "text": [
            "21\n"
          ]
        }
      ]
    },
    {
      "cell_type": "markdown",
      "source": [
        "Q2 all_itemsets"
      ],
      "metadata": {
        "id": "bhXmGpmuOMKS"
      }
    },
    {
      "cell_type": "code",
      "source": [
        "def all_itemsets(items, k):\n",
        "    \"\"\"\n",
        "    Generate all unique itemsets of size k from the given list of items.\n",
        "\n",
        "    :param items: List of unique items.\n",
        "    :param k: Size of each itemset.\n",
        "    :return: List of all possible unique itemsets of size k.\n",
        "    \"\"\"\n",
        "    if k == 0:\n",
        "        return [[]]\n",
        "    if len(items) < k:\n",
        "        return []\n",
        "\n",
        "    result = []\n",
        "    for i in range(len(items)):\n",
        "        # Generate all combinations that include items[i] and have size k\n",
        "        for subset in all_itemsets(items[i+1:], k-1):\n",
        "            result.append([items[i]] + subset)\n",
        "\n",
        "    return result"
      ],
      "metadata": {
        "id": "9CgxtYUCP9Rj"
      },
      "execution_count": null,
      "outputs": []
    },
    {
      "cell_type": "code",
      "source": [
        "example_items = [\"ham\", \"cheese\", \"bread\"]\n",
        "k = 2\n",
        "print(\"Generating itemsets of size\", k, \"from\", example_items)\n",
        "print(all_itemsets(example_items, k))"
      ],
      "metadata": {
        "colab": {
          "base_uri": "https://localhost:8080/"
        },
        "id": "BUhUUxmbQPWU",
        "outputId": "731b02a8-5062-4378-feae-f0babac1751e"
      },
      "execution_count": null,
      "outputs": [
        {
          "output_type": "stream",
          "name": "stdout",
          "text": [
            "Generating all itemsets of size 2 from ['ham', 'cheese', 'bread']\n",
            "[['ham', 'cheese'], ['ham', 'bread'], ['cheese', 'bread']]\n"
          ]
        }
      ]
    },
    {
      "cell_type": "markdown",
      "source": [
        "Q3 Netflix"
      ],
      "metadata": {
        "id": "Gm_r388hO1OZ"
      }
    },
    {
      "cell_type": "code",
      "source": [
        "#@title Download the data from website\n",
        "!wget -nc https://course.ccs.neu.edu/cs6220/fall2023/homework-1/netflix-data/movie_titles.csv\n",
        "!wget -nc https://course.ccs.neu.edu/cs6220/fall2023/homework-1/netflix-data/combined_data_1.txt\n",
        "!wget -nc https://course.ccs.neu.edu/cs6220/fall2023/homework-1/netflix-data/combined_data_2.txt\n",
        "!wget -nc https://course.ccs.neu.edu/cs6220/fall2023/homework-1/netflix-data/combined_data_3.txt\n",
        "!wget -nc https://course.ccs.neu.edu/cs6220/fall2023/homework-1/netflix-data/combined_data_4.txt\n",
        "\n",
        "from IPython.display import clear_output\n",
        "clear_output()\n",
        "\n",
        "print(\"Data in combined_data_1.txt looks like this: \\n\")\n",
        "!head -5 combined_data_1.txt\n",
        "\n",
        "print(\"\\n\\nData in movie_titles.csv looks like this: \\n\")\n",
        "!head -5 movie_titles.csv"
      ],
      "metadata": {
        "colab": {
          "base_uri": "https://localhost:8080/"
        },
        "id": "hRf5EMrGNXAN",
        "outputId": "f27aaa49-f89b-440b-bd31-4b0852f6fc31"
      },
      "execution_count": null,
      "outputs": [
        {
          "output_type": "stream",
          "name": "stdout",
          "text": [
            "Data in combined_data_1.txt looks like this: \n",
            "\n",
            "1:\n",
            "1488844,3,2005-09-06\n",
            "822109,5,2005-05-13\n",
            "885013,4,2005-10-19\n",
            "30878,4,2005-12-26\n",
            "\n",
            "\n",
            "Data in movie_titles.csv looks like this: \n",
            "\n",
            "1,2003,Dinosaur Planet\n",
            "2,2004,Isle of Man TT 2004 Review\n",
            "3,1997,Character\n",
            "4,1994,Paula Abdul's Get Up & Dance\n",
            "5,2004,The Rise and Fall of ECW\n"
          ]
        }
      ]
    },
    {
      "cell_type": "code",
      "source": [
        "f = open(\"movie_titles.csv\", encoding =\"cp1252\")\n",
        "data_lines = open(\"combined_data_1.txt\", \"r\").readlines()"
      ],
      "metadata": {
        "id": "v6huaQt0Relg"
      },
      "execution_count": null,
      "outputs": []
    },
    {
      "cell_type": "code",
      "source": [
        "import os\n",
        "\n",
        "def process_combined_data(file_paths):\n",
        "    total_ratings = 0\n",
        "    unique_users = set()\n",
        "    years = set()\n",
        "    user_ratings_count = {}\n",
        "\n",
        "    for file_path in file_paths:\n",
        "        with open(file_path, 'r') as file:\n",
        "            for line in file:\n",
        "                if ',' in line:\n",
        "                    user_id, rating, date = line.strip().split(',')\n",
        "                    total_ratings += 1\n",
        "                    unique_users.add(user_id)\n",
        "                    years.add(date.split('-')[0])\n",
        "                    user_ratings_count[user_id] = user_ratings_count.get(user_id, 0) + 1\n",
        "    return total_ratings, unique_users, years, user_ratings_count\n",
        "\n",
        "def process_movie_titles(file_path):\n",
        "    movie_names = {}\n",
        "    with open(file_path, 'r', encoding='cp1252') as file:\n",
        "        for line in file:\n",
        "            _, _, movie_name = line.strip().split(',', 2)\n",
        "            movie_names[movie_name] = movie_names.get(movie_name, 0) + 1\n",
        "    unique_movie_names = len(set(movie_names.keys()))\n",
        "    movies_with_four_names = sum(1 for count in movie_names.values() if count == 4)\n",
        "    return unique_movie_names, movies_with_four_names\n",
        "\n",
        "# Process combined_data_*.txt\n",
        "combined_files = [\"combined_data_1.txt\", \"combined_data_2.txt\", \"combined_data_3.txt\", \"combined_data_4.txt\"]\n",
        "total_ratings, unique_users, years, user_ratings_count = process_combined_data(combined_files)\n",
        "\n",
        "# Process movie_titles.csv\n",
        "movie_titles_file = \"movie_titles.csv\"\n",
        "unique_movie_names, movies_with_four_names = process_movie_titles(movie_titles_file)\n",
        "\n",
        "# Find users who rated exactly 200 movies\n",
        "users_rated_200 = {user for user, count in user_ratings_count.items() if count == 200}\n",
        "\n",
        "# Find the lowest user ID among them\n",
        "lowest_user_id = min(users_rated_200)\n",
        "\n",
        "print(\"3A Total movie rating records:\", total_ratings)\n",
        "print(\"3B Total unique users:\", len(unique_users))\n",
        "print(\"3C Year range:\", min(years), \"to\", max(years))\n",
        "print(\"4A Unique movie names:\", unique_movie_names)\n",
        "print(\"4B Movies with four different names:\", movies_with_four_names)\n",
        "print(\"5A number of users rated exactly 200 movies:\", len(users_rated_200))\n",
        "\n",
        "print(\"5B Lowest user ID who rated exactly 200 movies:\", lowest_user_id)\n"
      ],
      "metadata": {
        "colab": {
          "base_uri": "https://localhost:8080/"
        },
        "id": "noBMFR6RTEVQ",
        "outputId": "668cba37-6767-4c71-cad8-92f0229bbcda"
      },
      "execution_count": null,
      "outputs": [
        {
          "output_type": "stream",
          "name": "stdout",
          "text": [
            "3A Total movie rating records: 100480507\n",
            "3B Total unique users: 480189\n",
            "3C Year range: 1999 to 2005\n",
            "4A Unique movie names: 17359\n",
            "4B Movies with four different names: 5\n",
            "5A number of users rated exactly 200 movies: 605\n",
            "5B Lowest user ID who rated exactly 200 movies: 1001192\n"
          ]
        }
      ]
    }
  ]
}